{
 "cells": [
  {
   "cell_type": "code",
   "execution_count": 370,
   "metadata": {
    "scrolled": true
   },
   "outputs": [],
   "source": [
    "# !pip install spacy\n",
    "# !python -m spacy download fr_core_news_sm\n",
    "# !pip3 install emoji\n",
    "# !pip3 install deep-translator"
   ]
  },
  {
   "cell_type": "code",
   "execution_count": 3,
   "metadata": {},
   "outputs": [],
   "source": [
    "import nltk\n",
    "import time\n",
    "import pandas as pd\n",
    "from nltk.stem.snowball import FrenchStemmer\n",
    "import spacy\n",
    "import argparse\n",
    "import fr_core_news_sm\n",
    "from nltk.stem.snowball import SnowballStemmer\n",
    "import emoji\n",
    "from deep_translator import GoogleTranslator\n",
    "import re\n",
    "from nltk.corpus import words"
   ]
  },
  {
   "cell_type": "code",
   "execution_count": 4,
   "metadata": {},
   "outputs": [],
   "source": [
    "nlp = spacy.load(\"fr_core_news_sm\")"
   ]
  },
  {
   "cell_type": "code",
   "execution_count": 36,
   "metadata": {},
   "outputs": [],
   "source": [
    "dataframe_name = 'beauty_wellbeing.csv'"
   ]
  },
  {
   "cell_type": "code",
   "execution_count": 37,
   "metadata": {},
   "outputs": [],
   "source": [
    "df = pd.read_csv(dataframe_name)"
   ]
  },
  {
   "cell_type": "code",
   "execution_count": 38,
   "metadata": {},
   "outputs": [
    {
     "data": {
      "text/html": [
       "<div>\n",
       "<style scoped>\n",
       "    .dataframe tbody tr th:only-of-type {\n",
       "        vertical-align: middle;\n",
       "    }\n",
       "\n",
       "    .dataframe tbody tr th {\n",
       "        vertical-align: top;\n",
       "    }\n",
       "\n",
       "    .dataframe thead th {\n",
       "        text-align: right;\n",
       "    }\n",
       "</style>\n",
       "<table border=\"1\" class=\"dataframe\">\n",
       "  <thead>\n",
       "    <tr style=\"text-align: right;\">\n",
       "      <th></th>\n",
       "      <th>Unnamed: 0</th>\n",
       "      <th>title</th>\n",
       "      <th>comments</th>\n",
       "      <th>stars</th>\n",
       "      <th>time</th>\n",
       "    </tr>\n",
       "  </thead>\n",
       "  <tbody>\n",
       "    <tr>\n",
       "      <th>0</th>\n",
       "      <td>0</td>\n",
       "      <td>\\n                        Bon produit\\n       ...</td>\n",
       "      <td>\\n                Bon produit. Livraison rapid...</td>\n",
       "      <td>5 étoiles : excellent</td>\n",
       "      <td>2021-06-19T05:05:28+00:00</td>\n",
       "    </tr>\n",
       "    <tr>\n",
       "      <th>1</th>\n",
       "      <td>1</td>\n",
       "      <td>\\n                        Envoi très rapide\\n ...</td>\n",
       "      <td>\\n                Envoi très rapide, excellent...</td>\n",
       "      <td>5 étoiles : excellent</td>\n",
       "      <td>2021-06-18T14:03:47+00:00</td>\n",
       "    </tr>\n",
       "    <tr>\n",
       "      <th>2</th>\n",
       "      <td>2</td>\n",
       "      <td>\\n                        super envoi- on aura...</td>\n",
       "      <td>\\n                super envoi- on aurait aime ...</td>\n",
       "      <td>5 étoiles : excellent</td>\n",
       "      <td>2021-06-17T23:14:19+00:00</td>\n",
       "    </tr>\n",
       "    <tr>\n",
       "      <th>3</th>\n",
       "      <td>3</td>\n",
       "      <td>\\n                        Commande parvenue ra...</td>\n",
       "      <td>\\n                Commande parvenue rapidement...</td>\n",
       "      <td>5 étoiles : excellent</td>\n",
       "      <td>2021-06-17T17:54:31+00:00</td>\n",
       "    </tr>\n",
       "    <tr>\n",
       "      <th>4</th>\n",
       "      <td>4</td>\n",
       "      <td>\\n                        Site sérieux je reco...</td>\n",
       "      <td>\\n                Très contente de cet achat e...</td>\n",
       "      <td>5 étoiles : excellent</td>\n",
       "      <td>2021-06-17T16:02:08+00:00</td>\n",
       "    </tr>\n",
       "    <tr>\n",
       "      <th>...</th>\n",
       "      <td>...</td>\n",
       "      <td>...</td>\n",
       "      <td>...</td>\n",
       "      <td>...</td>\n",
       "      <td>...</td>\n",
       "    </tr>\n",
       "    <tr>\n",
       "      <th>12667</th>\n",
       "      <td>12667</td>\n",
       "      <td>\\n                        Je recommande à 100%...</td>\n",
       "      <td>\\n                Produit de qualité et suivi ...</td>\n",
       "      <td>5 étoiles : excellent</td>\n",
       "      <td>2021-03-04T11:35:50+00:00</td>\n",
       "    </tr>\n",
       "    <tr>\n",
       "      <th>12668</th>\n",
       "      <td>12668</td>\n",
       "      <td>\\n                        Produits top... mais...</td>\n",
       "      <td>\\n                Produits de qualité, équipe ...</td>\n",
       "      <td>5 étoiles : excellent</td>\n",
       "      <td>2021-03-04T10:19:19+00:00</td>\n",
       "    </tr>\n",
       "    <tr>\n",
       "      <th>12669</th>\n",
       "      <td>12669</td>\n",
       "      <td>\\n                        Très satisfaite de l...</td>\n",
       "      <td>\\n                Première fois que je testais...</td>\n",
       "      <td>5 étoiles : excellent</td>\n",
       "      <td>2021-03-04T09:51:05+00:00</td>\n",
       "    </tr>\n",
       "    <tr>\n",
       "      <th>12670</th>\n",
       "      <td>12670</td>\n",
       "      <td>\\n                        Très bien\\n         ...</td>\n",
       "      <td>\\n                Très bien, bons produits\\n  ...</td>\n",
       "      <td>5 étoiles : excellent</td>\n",
       "      <td>2021-03-04T09:11:45+00:00</td>\n",
       "    </tr>\n",
       "    <tr>\n",
       "      <th>12671</th>\n",
       "      <td>12671</td>\n",
       "      <td>\\n                        Produits et service ...</td>\n",
       "      <td>\\n                Produits et service parfait,...</td>\n",
       "      <td>5 étoiles : excellent</td>\n",
       "      <td>2021-03-04T08:30:22+00:00</td>\n",
       "    </tr>\n",
       "  </tbody>\n",
       "</table>\n",
       "<p>12672 rows × 5 columns</p>\n",
       "</div>"
      ],
      "text/plain": [
       "       Unnamed: 0                                              title  \\\n",
       "0               0  \\n                        Bon produit\\n       ...   \n",
       "1               1  \\n                        Envoi très rapide\\n ...   \n",
       "2               2  \\n                        super envoi- on aura...   \n",
       "3               3  \\n                        Commande parvenue ra...   \n",
       "4               4  \\n                        Site sérieux je reco...   \n",
       "...           ...                                                ...   \n",
       "12667       12667  \\n                        Je recommande à 100%...   \n",
       "12668       12668  \\n                        Produits top... mais...   \n",
       "12669       12669  \\n                        Très satisfaite de l...   \n",
       "12670       12670  \\n                        Très bien\\n         ...   \n",
       "12671       12671  \\n                        Produits et service ...   \n",
       "\n",
       "                                                comments  \\\n",
       "0      \\n                Bon produit. Livraison rapid...   \n",
       "1      \\n                Envoi très rapide, excellent...   \n",
       "2      \\n                super envoi- on aurait aime ...   \n",
       "3      \\n                Commande parvenue rapidement...   \n",
       "4      \\n                Très contente de cet achat e...   \n",
       "...                                                  ...   \n",
       "12667  \\n                Produit de qualité et suivi ...   \n",
       "12668  \\n                Produits de qualité, équipe ...   \n",
       "12669  \\n                Première fois que je testais...   \n",
       "12670  \\n                Très bien, bons produits\\n  ...   \n",
       "12671  \\n                Produits et service parfait,...   \n",
       "\n",
       "                       stars                       time  \n",
       "0      5 étoiles : excellent  2021-06-19T05:05:28+00:00  \n",
       "1      5 étoiles : excellent  2021-06-18T14:03:47+00:00  \n",
       "2      5 étoiles : excellent  2021-06-17T23:14:19+00:00  \n",
       "3      5 étoiles : excellent  2021-06-17T17:54:31+00:00  \n",
       "4      5 étoiles : excellent  2021-06-17T16:02:08+00:00  \n",
       "...                      ...                        ...  \n",
       "12667  5 étoiles : excellent  2021-03-04T11:35:50+00:00  \n",
       "12668  5 étoiles : excellent  2021-03-04T10:19:19+00:00  \n",
       "12669  5 étoiles : excellent  2021-03-04T09:51:05+00:00  \n",
       "12670  5 étoiles : excellent  2021-03-04T09:11:45+00:00  \n",
       "12671  5 étoiles : excellent  2021-03-04T08:30:22+00:00  \n",
       "\n",
       "[12672 rows x 5 columns]"
      ]
     },
     "execution_count": 38,
     "metadata": {},
     "output_type": "execute_result"
    }
   ],
   "source": [
    "df"
   ]
  },
  {
   "cell_type": "code",
   "execution_count": 39,
   "metadata": {},
   "outputs": [],
   "source": [
    "df = df.loc[:, ~df.columns.str.contains('^Unnamed')]"
   ]
  },
  {
   "cell_type": "code",
   "execution_count": 40,
   "metadata": {},
   "outputs": [
    {
     "data": {
      "text/html": [
       "<div>\n",
       "<style scoped>\n",
       "    .dataframe tbody tr th:only-of-type {\n",
       "        vertical-align: middle;\n",
       "    }\n",
       "\n",
       "    .dataframe tbody tr th {\n",
       "        vertical-align: top;\n",
       "    }\n",
       "\n",
       "    .dataframe thead th {\n",
       "        text-align: right;\n",
       "    }\n",
       "</style>\n",
       "<table border=\"1\" class=\"dataframe\">\n",
       "  <thead>\n",
       "    <tr style=\"text-align: right;\">\n",
       "      <th></th>\n",
       "      <th>title</th>\n",
       "      <th>comments</th>\n",
       "      <th>stars</th>\n",
       "      <th>time</th>\n",
       "    </tr>\n",
       "  </thead>\n",
       "  <tbody>\n",
       "    <tr>\n",
       "      <th>0</th>\n",
       "      <td>\\n                        Bon produit\\n       ...</td>\n",
       "      <td>\\n                Bon produit. Livraison rapid...</td>\n",
       "      <td>5 étoiles : excellent</td>\n",
       "      <td>2021-06-19T05:05:28+00:00</td>\n",
       "    </tr>\n",
       "    <tr>\n",
       "      <th>1</th>\n",
       "      <td>\\n                        Envoi très rapide\\n ...</td>\n",
       "      <td>\\n                Envoi très rapide, excellent...</td>\n",
       "      <td>5 étoiles : excellent</td>\n",
       "      <td>2021-06-18T14:03:47+00:00</td>\n",
       "    </tr>\n",
       "    <tr>\n",
       "      <th>2</th>\n",
       "      <td>\\n                        super envoi- on aura...</td>\n",
       "      <td>\\n                super envoi- on aurait aime ...</td>\n",
       "      <td>5 étoiles : excellent</td>\n",
       "      <td>2021-06-17T23:14:19+00:00</td>\n",
       "    </tr>\n",
       "    <tr>\n",
       "      <th>3</th>\n",
       "      <td>\\n                        Commande parvenue ra...</td>\n",
       "      <td>\\n                Commande parvenue rapidement...</td>\n",
       "      <td>5 étoiles : excellent</td>\n",
       "      <td>2021-06-17T17:54:31+00:00</td>\n",
       "    </tr>\n",
       "    <tr>\n",
       "      <th>4</th>\n",
       "      <td>\\n                        Site sérieux je reco...</td>\n",
       "      <td>\\n                Très contente de cet achat e...</td>\n",
       "      <td>5 étoiles : excellent</td>\n",
       "      <td>2021-06-17T16:02:08+00:00</td>\n",
       "    </tr>\n",
       "    <tr>\n",
       "      <th>...</th>\n",
       "      <td>...</td>\n",
       "      <td>...</td>\n",
       "      <td>...</td>\n",
       "      <td>...</td>\n",
       "    </tr>\n",
       "    <tr>\n",
       "      <th>12667</th>\n",
       "      <td>\\n                        Je recommande à 100%...</td>\n",
       "      <td>\\n                Produit de qualité et suivi ...</td>\n",
       "      <td>5 étoiles : excellent</td>\n",
       "      <td>2021-03-04T11:35:50+00:00</td>\n",
       "    </tr>\n",
       "    <tr>\n",
       "      <th>12668</th>\n",
       "      <td>\\n                        Produits top... mais...</td>\n",
       "      <td>\\n                Produits de qualité, équipe ...</td>\n",
       "      <td>5 étoiles : excellent</td>\n",
       "      <td>2021-03-04T10:19:19+00:00</td>\n",
       "    </tr>\n",
       "    <tr>\n",
       "      <th>12669</th>\n",
       "      <td>\\n                        Très satisfaite de l...</td>\n",
       "      <td>\\n                Première fois que je testais...</td>\n",
       "      <td>5 étoiles : excellent</td>\n",
       "      <td>2021-03-04T09:51:05+00:00</td>\n",
       "    </tr>\n",
       "    <tr>\n",
       "      <th>12670</th>\n",
       "      <td>\\n                        Très bien\\n         ...</td>\n",
       "      <td>\\n                Très bien, bons produits\\n  ...</td>\n",
       "      <td>5 étoiles : excellent</td>\n",
       "      <td>2021-03-04T09:11:45+00:00</td>\n",
       "    </tr>\n",
       "    <tr>\n",
       "      <th>12671</th>\n",
       "      <td>\\n                        Produits et service ...</td>\n",
       "      <td>\\n                Produits et service parfait,...</td>\n",
       "      <td>5 étoiles : excellent</td>\n",
       "      <td>2021-03-04T08:30:22+00:00</td>\n",
       "    </tr>\n",
       "  </tbody>\n",
       "</table>\n",
       "<p>12672 rows × 4 columns</p>\n",
       "</div>"
      ],
      "text/plain": [
       "                                                   title  \\\n",
       "0      \\n                        Bon produit\\n       ...   \n",
       "1      \\n                        Envoi très rapide\\n ...   \n",
       "2      \\n                        super envoi- on aura...   \n",
       "3      \\n                        Commande parvenue ra...   \n",
       "4      \\n                        Site sérieux je reco...   \n",
       "...                                                  ...   \n",
       "12667  \\n                        Je recommande à 100%...   \n",
       "12668  \\n                        Produits top... mais...   \n",
       "12669  \\n                        Très satisfaite de l...   \n",
       "12670  \\n                        Très bien\\n         ...   \n",
       "12671  \\n                        Produits et service ...   \n",
       "\n",
       "                                                comments  \\\n",
       "0      \\n                Bon produit. Livraison rapid...   \n",
       "1      \\n                Envoi très rapide, excellent...   \n",
       "2      \\n                super envoi- on aurait aime ...   \n",
       "3      \\n                Commande parvenue rapidement...   \n",
       "4      \\n                Très contente de cet achat e...   \n",
       "...                                                  ...   \n",
       "12667  \\n                Produit de qualité et suivi ...   \n",
       "12668  \\n                Produits de qualité, équipe ...   \n",
       "12669  \\n                Première fois que je testais...   \n",
       "12670  \\n                Très bien, bons produits\\n  ...   \n",
       "12671  \\n                Produits et service parfait,...   \n",
       "\n",
       "                       stars                       time  \n",
       "0      5 étoiles : excellent  2021-06-19T05:05:28+00:00  \n",
       "1      5 étoiles : excellent  2021-06-18T14:03:47+00:00  \n",
       "2      5 étoiles : excellent  2021-06-17T23:14:19+00:00  \n",
       "3      5 étoiles : excellent  2021-06-17T17:54:31+00:00  \n",
       "4      5 étoiles : excellent  2021-06-17T16:02:08+00:00  \n",
       "...                      ...                        ...  \n",
       "12667  5 étoiles : excellent  2021-03-04T11:35:50+00:00  \n",
       "12668  5 étoiles : excellent  2021-03-04T10:19:19+00:00  \n",
       "12669  5 étoiles : excellent  2021-03-04T09:51:05+00:00  \n",
       "12670  5 étoiles : excellent  2021-03-04T09:11:45+00:00  \n",
       "12671  5 étoiles : excellent  2021-03-04T08:30:22+00:00  \n",
       "\n",
       "[12672 rows x 4 columns]"
      ]
     },
     "execution_count": 40,
     "metadata": {},
     "output_type": "execute_result"
    }
   ],
   "source": [
    "df"
   ]
  },
  {
   "cell_type": "code",
   "execution_count": 41,
   "metadata": {},
   "outputs": [],
   "source": [
    "def clean_txt(txt: str) -> str:\n",
    "    \n",
    "    # Keep alphanumerical\n",
    "    txt = txt.replace('.', '')\n",
    "    txt = txt.replace(\"'\", '')\n",
    "    txt = txt.replace('!', '')\n",
    "    txt = txt.replace('?', '')\n",
    "    txt = txt.replace('-', '')\n",
    "    txt = txt.replace('_', ' ')\n",
    "    txt = txt.replace('&', '')\n",
    "    txt = txt.replace(',', '')\n",
    "    txt = txt.replace(':', '')\n",
    "    txt = txt.replace('<', '')\n",
    "    txt = txt.replace('>', '')\n",
    "    txt = txt.replace('*', '')\n",
    "    txt = txt.replace('#', '')\n",
    "    txt = txt.replace('@', '')\n",
    "    txt = txt.replace(';', '')\n",
    "    txt = txt.replace('%', '')\n",
    "    txt = txt.replace('$', '')\n",
    "    txt = txt.replace('€', '')\n",
    "    txt = txt.replace('/', '')\n",
    "    txt = txt.replace('(', '')\n",
    "    txt = txt.replace(')', '')\n",
    "    txt = txt.replace('§', '')\n",
    "    txt = txt.strip().lower()\n",
    "\n",
    "    txt = str(\"\".join(filter(lambda x: not x.isdigit(), txt)))\n",
    "\n",
    "    return txt"
   ]
  },
  {
   "cell_type": "code",
   "execution_count": 42,
   "metadata": {},
   "outputs": [],
   "source": [
    "def translate_en_to_fr(txt: str):\n",
    "    \n",
    "    string_txt = \" \"\n",
    "    list_words_translated = []\n",
    "    \n",
    "    sentence = re.sub(' +', ' ', txt).split(' ')\n",
    "    \n",
    "    for word in sentence:\n",
    "        list_words_translated.append(GoogleTranslator(source='auto', target='fr').translate(word))\n",
    "    return string_txt.join(list_words_translated)"
   ]
  },
  {
   "cell_type": "code",
   "execution_count": 43,
   "metadata": {},
   "outputs": [],
   "source": [
    "def text_has_emoji(txt: str):\n",
    "    \n",
    "    sentence = \" \"\n",
    "    list_emojis = []\n",
    "    list_words = []\n",
    "    \n",
    "    if bool(emoji.get_emoji_regexp().search(txt)) is True:\n",
    "        for word in txt.split(\" \"):\n",
    "            if bool(emoji.get_emoji_regexp().search(word)) is True:\n",
    "                list_emojis.append(clean_txt(emoji.demojize(word, delimiters=(\"\", \"\"))))\n",
    "            else:\n",
    "                list_words.append(word)\n",
    "\n",
    "    if len(list_emojis) > 0:\n",
    "        return sentence.join(list_words) + \" \" + translate_en_to_fr(sentence.join(list_emojis))\n",
    "    else:\n",
    "        return txt\n",
    "    "
   ]
  },
  {
   "cell_type": "code",
   "execution_count": 44,
   "metadata": {},
   "outputs": [],
   "source": [
    "def lemmatizer(txt: str):\n",
    "      \n",
    "    string_txt = \" \"\n",
    "    list_words_lemmat = []\n",
    "    doc = nlp(txt)\n",
    "\n",
    "    for val in doc:\n",
    "        list_words_lemmat.append(val.lemma_)\n",
    "\n",
    "    return string_txt.join(list_words_lemmat)"
   ]
  },
  {
   "cell_type": "code",
   "execution_count": 45,
   "metadata": {},
   "outputs": [],
   "source": [
    "# French stop words\n",
    "list_stopWords = [\"a\", \"à\",\"â\",\"abord\",\"afin\",\"ah\",\"ai\",\"aie\",\"ainsi\",\"allaient\",\"allo\",\"allô\",\"allons\",\"après\",\"assez\",\"attendu\",\"au\",\"aucun\",\"aucune\",\"aujourd\",\"aujourd'hui\",\"auquel\",\"aura\",\"auront\",\"aussi\",\"autre\",\"autres\",\"aux\",\"auxquelles\",\"auxquels\",\"avaient\",\"avais\", \"avons\", \"avez\",\"avait\",\"avant\",\"avec\",\"avoir\",\"ayant\",\"b\",\"bah\",\"beaucoup\",\"bien\",\"bigre\",\"boum\",\"bravo\",\"brrr\",\"c\",\"ça\",\"car\",\"ce\",\"ceci\",\"cela\",\"celle\",\"celle-ci\",\"celle-là\",\"celles\",\"celles-ci\",\"celles-là\",\"celui\",\"celui-ci\",\"celui-là\",\"cent\",\"cependant\",\"certain\",\"certaine\",\"certaines\",\"certains\",\"certes\",\"ces\",\"cet\",\"cette\",\"ceux\",\"ceux-ci\",\"ceux-là\",\"chacun\",\"chaque\",\"cher\",\"chère\",\"chères\",\"chers\",\"chez\",\"chiche\",\"chut\",\"ci\",\"cinq\",\"cinquantaine\",\"cinquante\",\"cinquantième\",\"cinquième\",\"clac\",\"clic\",\"combien\",\"comme\",\"comment\",\"compris\",\"concernant\",\"contre\",\"couic\",\"crac\",\"d\",\"da\",\"dans\",\"de\",\"debout\",\"dedans\",\"dehors\",\"delà\",\"depuis\",\"derrière\",\"des\",\"dès\",\"désormais\",\"desquelles\",\"desquels\",\"dessous\",\"dessus\",\"deux\",\"deuxième\",\"deuxièmement\",\"devant\",\"devers\",\"devra\",\"différent\",\"différente\",\"différentes\",\"différents\",\"dire\",\"divers\",\"diverse\",\"diverses\",\"dix\",\"dix-huit\",\"dixième\",\"dix-neuf\",\"dix-sept\",\"doit\",\"doivent\",\"donc\",\"dont\",\"douze\",\"douzième\",\"dring\",\"du\",\"duquel\",\"durant\",\"e\",\"effet\",\"eh\",\"elle\",\"elle-même\",\"elles\",\"elles-mêmes\",\"en\",\"encore\",\"entre\",\"envers\",\"environ\",\"es\",\"ès\",\"est\",\"et\",\"etant\",\"étaient\",\"étais\",\"était\",\"étant\",\"etc\",\"été\",\"etre\",\"être\",\"eu\",\"euh\",\"eux\",\"eux-mêmes\",\"excepté\",\"f\",\"façon\",\"fais\",\"faisaient\",\"faisant\",\"fait\",\"feront\",\"fi\",\"flac\",\"floc\",\"font\",\"g\",\"gens\",\"h\",\"ha\",\"hé\",\"hein\",\"hélas\",\"hem\",\"hep\",\"hi\",\"ho\",\"holà\",\"hop\",\"hormis\",\"hors\",\"hou\",\"houp\",\"hue\",\"hui\",\"huit\",\"huitième\",\"hum\",\"hurrah\",\"i\",\"il\",\"ils\",\"importe\",\"j\",\"je\",\"jusqu\",\"jusque\",\"k\",\"l\",\"la\",\"là\",\"laquelle\",\"las\",\"le\",\"lequel\",\"les\",\"lès\",\"lesquelles\",\"lesquels\",\"leur\",\"leurs\",\"longtemps\",\"lorsque\",\"lui\",\"lui-même\",\"m\",\"ma\",\"maint\",\"mais\",\"malgré\",\"me\",\"même\",\"mêmes\",\"merci\",\"mes\",\"mien\",\"mienne\",\"miennes\",\"miens\",\"mille\",\"mince\",\"moi\",\"moi-même\",\"moins\",\"mon\",\"moyennant\",\"n\",\"na\",\"ne\",\"néanmoins\",\"neuf\",\"neuvième\",\"ni\",\"nombreuses\",\"nombreux\",\"non\",\"nos\",\"notre\",\"nôtre\",\"nôtres\",\"nous\",\"nous-mêmes\",\"nul\",\"o\",\"o|\",\"ô\",\"oh\",\"ohé\",\"olé\",\"ollé\",\"on\",\"ont\",\"onze\",\"onzième\",\"ore\",\"ou\",\"où\",\"ouf\",\"ouias\",\"oust\",\"ouste\",\"outre\",\"p\",\"paf\",\"pan\",\"par\",\"parmi\",\"partant\",\"particulier\",\"particulière\",\"particulièrement\",\"pas\",\"passé\",\"pendant\",\"personne\",\"peu\",\"peut\",\"peuvent\",\"peux\",\"pff\",\"pfft\",\"pfut\",\"pif\",\"plein\",\"plouf\",\"plus\",\"plusieurs\",\"plutôt\",\"pouah\",\"pour\",\"pourquoi\",\"premier\",\"première\",\"premièrement\",\"près\",\"proche\",\"psitt\",\"puisque\",\"q\",\"qu\",\"quand\",\"quant\",\"quanta\",\"quant-à-soi\",\"quarante\",\"quatorze\",\"quatre\",\"quatre-vingt\",\"quatrième\",\"quatrièmement\",\"que\",\"quel\",\"quelconque\",\"quelle\",\"quelles\",\"quelque\",\"quelques\",\"quelqu'un\",\"quels\",\"qui\",\"quiconque\",\"quinze\",\"quoi\",\"quoique\",\"r\",\"revoici\",\"revoilà\",\"rien\",\"s\",\"sa\",\"sacrebleu\",\"sans\",\"sapristi\",\"sauf\",\"se\",\"seize\",\"selon\",\"sept\",\"septième\",\"sera\",\"seront\",\"ses\",\"si\",\"sien\",\"sienne\",\"siennes\",\"siens\",\"sinon\",\"six\",\"sixième\",\"soi\",\"soi-même\",\"soit\",\"soixante\",\"son\",\"sont\",\"sous\",\"stop\",\"suis\",\"suivant\",\"sur\",\"surtout\",\"t\",\"ta\",\"tac\",\"tant\",\"te\",\"té\",\"tel\",\"telle\",\"tellement\",\"telles\",\"tels\",\"tenant\",\"tes\",\"tic\",\"tien\",\"tienne\",\"tiennes\",\"tiens\",\"toc\",\"toi\",\"toi-même\",\"ton\",\"touchant\",\"toujours\",\"tous\",\"tout\",\"toute\",\"toutes\",\"treize\",\"trente\",\"très\",\"trois\",\"troisième\",\"troisièmement\",\"trop\",\"tsoin\",\"tsouin\",\"tu\",\"u\",\"un\",\"une\",\"unes\",\"uns\",\"v\",\"va\",\"vais\",\"vas\",\"vé\",\"vers\",\"via\",\"vif\",\"vifs\",\"vingt\",\"vivat\",\"vive\",\"vives\",\"vlan\",\"voici\",\"voilà\",\"vont\",\"vos\",\"votre\",\"vôtre\",\"vôtres\",\"vous\",\"vous-mêmes\",\"vu\",\"w\",\"x\",\"y\",\"z\",\"zut\",\"alors\",\"aucuns\",\"bon\",\"devrait\",\"dos\",\"droite\",\"début\",\"essai\",\"faites\",\"fois\",\"force\",\"haut\",\"ici\",\"juste\",\"maintenant\",\"mine\",\"mot\",\"nommés\",\"nouveaux\",\"parce\",\"parole\",\"personnes\",\"pièce\",\"plupart\",\"seulement\",\"soyez\",\"sujet\",\"tandis\",\"valeur\",\"voie\",\"voient\",\"état\",\"étions\"]"
   ]
  },
  {
   "cell_type": "code",
   "execution_count": 46,
   "metadata": {},
   "outputs": [],
   "source": [
    "def remove_stop_words(txt: str):\n",
    "    \n",
    "    txt = lemmatizer(txt)\n",
    "    \n",
    "    string_txt = \" \" \n",
    "    list_words = []\n",
    "    \n",
    "    sentence = txt.split()\n",
    "\n",
    "    for val in sentence:\n",
    "        if val not in list_stopWords:\n",
    "            list_words.append(val)\n",
    "\n",
    "    return string_txt.join(list_words)"
   ]
  },
  {
   "cell_type": "code",
   "execution_count": 47,
   "metadata": {},
   "outputs": [],
   "source": [
    "stemmer = SnowballStemmer(language='french')"
   ]
  },
  {
   "cell_type": "code",
   "execution_count": 48,
   "metadata": {},
   "outputs": [],
   "source": [
    "def return_stem(txt: str):\n",
    "    \n",
    "    txt = remove_stop_words(txt)\n",
    "    \n",
    "    string_txt = \" \"\n",
    "    list_words = []\n",
    "\n",
    "    doc = nlp(txt)\n",
    "    for X in doc:\n",
    "        list_words.append(stemmer.stem(X.text))\n",
    "        \n",
    "    return string_txt.join(list_words)"
   ]
  },
  {
   "cell_type": "code",
   "execution_count": 49,
   "metadata": {
    "scrolled": true
   },
   "outputs": [],
   "source": [
    "df_new = df.copy(deep=True)\n",
    "\n",
    "df_new = df_new.reset_index(drop=True)"
   ]
  },
  {
   "cell_type": "code",
   "execution_count": 50,
   "metadata": {},
   "outputs": [],
   "source": [
    "start_time = time.time()"
   ]
  },
  {
   "cell_type": "code",
   "execution_count": 51,
   "metadata": {},
   "outputs": [],
   "source": [
    "df_new['comments'] = df_new['comments'].apply(lambda x: text_has_emoji(x))"
   ]
  },
  {
   "cell_type": "code",
   "execution_count": 52,
   "metadata": {},
   "outputs": [],
   "source": [
    "df_new['comments'] = df_new['comments'].apply(lambda x: clean_txt(x))"
   ]
  },
  {
   "cell_type": "code",
   "execution_count": 53,
   "metadata": {},
   "outputs": [],
   "source": [
    "df_new['comments'] = df_new['comments'].apply(lambda x: lemmatizer(x))"
   ]
  },
  {
   "cell_type": "code",
   "execution_count": 54,
   "metadata": {},
   "outputs": [],
   "source": [
    "df_new['comments'] = df_new['comments'].apply(lambda x: remove_stop_words(x))"
   ]
  },
  {
   "cell_type": "code",
   "execution_count": 55,
   "metadata": {},
   "outputs": [],
   "source": [
    "# df['comments'] = df['comments'].apply(lambda x: return_stem(x))"
   ]
  },
  {
   "cell_type": "code",
   "execution_count": 58,
   "metadata": {},
   "outputs": [],
   "source": [
    "df_new.to_csv('cleaned_'+ dataframe_name, index=False)"
   ]
  },
  {
   "cell_type": "code",
   "execution_count": 59,
   "metadata": {},
   "outputs": [
    {
     "name": "stdout",
     "output_type": "stream",
     "text": [
      "14.704242849349976 minutes\n"
     ]
    }
   ],
   "source": [
    "print((time.time() - start_time)/60, 'minutes')"
   ]
  }
 ],
 "metadata": {
  "kernelspec": {
   "display_name": "Python 3",
   "language": "python",
   "name": "python3"
  },
  "language_info": {
   "codemirror_mode": {
    "name": "ipython",
    "version": 3
   },
   "file_extension": ".py",
   "mimetype": "text/x-python",
   "name": "python",
   "nbconvert_exporter": "python",
   "pygments_lexer": "ipython3",
   "version": "3.8.5"
  }
 },
 "nbformat": 4,
 "nbformat_minor": 4
}
